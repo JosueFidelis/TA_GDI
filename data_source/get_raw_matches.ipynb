{
 "cells": [
  {
   "cell_type": "code",
   "execution_count": 2,
   "metadata": {},
   "outputs": [],
   "source": [
    "import requests\n",
    "import json\n",
    "from IPython.display import display\n",
    "\n",
    "url=\"https://aoe2.net/api/matches?game=aoe2de&count=1000&since=\""
   ]
  },
  {
   "cell_type": "code",
   "execution_count": 4,
   "metadata": {},
   "outputs": [],
   "source": [
    "dict_file=[]\n",
    "for epoch in range(1601223367, 1602087367, 14400):\n",
    "    req=requests.get(url+str(epoch))\n",
    "    dict_piece=json.loads(req.content)\n",
    "    dict_file=dict_file + dict_piece"
   ]
  },
  {
   "cell_type": "code",
   "execution_count": 6,
   "metadata": {},
   "outputs": [],
   "source": [
    "json_file=json.dumps(dict_file, indent=4, sort_keys=True)"
   ]
  },
  {
   "cell_type": "markdown",
   "metadata": {},
   "source": [
    "Esse script apenas requisita os dados da API, faz um dataset e guarda-o em JSON.\n",
    "A API só permite que requisitemos até 1000 partidas por vez.\n",
    "Os tipos que não foram definidos é porque não são relevantes para a analisa, a exemplo temos \"has_password\", não é relevante para o andamento da partida saber se a sala da partida tinha uma senha de acesso."
   ]
  },
  {
   "cell_type": "code",
   "execution_count": 40,
   "metadata": {},
   "outputs": [
    {
     "data": {
      "text/plain": [
       "average_rating        float64\n",
       "cheats                   bool\n",
       "ending_age              int64\n",
       "expansion             float64\n",
       "finished                int64\n",
       "full_tech_tree        float64\n",
       "game_type               int64\n",
       "has_custom_content    float64\n",
       "has_password          float64\n",
       "leaderboard_id          int64\n",
       "lobby_id              float64\n",
       "lock_speed               bool\n",
       "lock_teams               bool\n",
       "map_size                int64\n",
       "map_type              float64\n",
       "match_id                int64\n",
       "match_uuid             object\n",
       "name                   object\n",
       "num_players             int64\n",
       "num_slots               int64\n",
       "opened                  int64\n",
       "players                object\n",
       "pop                   float64\n",
       "ranked                   bool\n",
       "rating_type             int64\n",
       "resources             float64\n",
       "rms                    object\n",
       "scenario               object\n",
       "server                 object\n",
       "shared_exploration       bool\n",
       "speed                 float64\n",
       "started                 int64\n",
       "starting_age            int64\n",
       "team_positions           bool\n",
       "team_together            bool\n",
       "treaty_length           int64\n",
       "turbo                    bool\n",
       "version               float64\n",
       "victory               float64\n",
       "victory_time          float64\n",
       "visibility            float64\n",
       "dtype: object"
      ]
     },
     "execution_count": 40,
     "metadata": {},
     "output_type": "execute_result"
    }
   ],
   "source": [
    "import pandas\n",
    "\n",
    "df=pandas.read_json(json_file, dtype={'match_id': int, 'match_uuid': 'string', 'num_players': int,\n",
    "                                      'average_rating': int, 'cheats' : bool, 'game_type': int, \n",
    "                                      'lock_speed': bool, 'lock_teams': bool, 'map_size': int, 'pop': int, \n",
    "                                      'ranked': bool, 'leaderboard_id': int, 'rating_type': int, \n",
    "                                      'shared_exploration' : bool, 'team_together' : bool, \n",
    "                                      'team_positions': bool, 'turbo' : bool, 'victory' : int, \n",
    "                                      'victory_time' : int, 'visibility' : int, 'opened' : int, \n",
    "                                      'started': int, 'finished' : int, 'players' : [dict]})\n",
    "pandas.options.display.max_columns = None\n",
    "df.dtypes"
   ]
  },
  {
   "cell_type": "code",
   "execution_count": 43,
   "metadata": {},
   "outputs": [],
   "source": [
    "df.to_json(\"raw_matches_dataset.json\")"
   ]
  },
  {
   "cell_type": "code",
   "execution_count": null,
   "metadata": {},
   "outputs": [],
   "source": []
  }
 ],
 "metadata": {
  "kernelspec": {
   "display_name": "Python 3",
   "language": "python",
   "name": "python3"
  },
  "language_info": {
   "codemirror_mode": {
    "name": "ipython",
    "version": 3
   },
   "file_extension": ".py",
   "mimetype": "text/x-python",
   "name": "python",
   "nbconvert_exporter": "python",
   "pygments_lexer": "ipython3",
   "version": "3.6.9"
  }
 },
 "nbformat": 4,
 "nbformat_minor": 2
}
